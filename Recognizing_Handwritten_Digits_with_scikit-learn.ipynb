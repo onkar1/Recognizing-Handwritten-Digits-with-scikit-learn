{
 "cells": [
  {
   "cell_type": "markdown",
   "id": "f6a18a53",
   "metadata": {},
   "source": [
    "# Recognizing Handwritten Digits with scikit-learn\n"
   ]
  },
  {
   "cell_type": "markdown",
   "id": "e948e51a",
   "metadata": {},
   "source": [
    "          The primary aim of this project involves predicting a numeric value, and then reading and interpreting an image that uses a handwritten font.\n",
    "\n",
    "          Recognizing handwritten text is a problem that traces back to the first automatic machines that needed to recognize individual characters in handwritten documents. Think about, for example, the ZIP codes on letters at the post office and the automation needed to recognize these five digits. Perfect recognition of these codes is necessary to sort mail automatically and efficiently. Included among the other applications that may come to mind is OCR (Optical Character Recognition) software.\n",
    "\n",
    "          OCR software must read handwritten text, or pages of printed books, for general electronic documents in which each character is well defined. But the problem of handwriting recognition goes farther back in time, more precisely to the early 20th Century (the 1920s), when Emanuel Goldberg (1881–1970) began his studies regarding this issue and suggested that a statistical approach would be an optimal choice.\n",
    "\n",
    "           To address this issue in Python, the scikit-learn library provides a good example to better understand this technique, the issues involved, and the possibility of making predictions."
   ]
  },
  {
   "cell_type": "markdown",
   "id": "144c5c7d",
   "metadata": {},
   "source": [
    "## Import Dataset :\n",
    "- The scikit-learn library has a package of datasets. These datasets are useful for getting a handle on a machine-learning algorithm or library feature.\n",
    "\n",
    "\n",
    "### Load Dataset :\n",
    "- Import datasets module from sklearn library and load the digits dataset using the load_digits() function."
   ]
  },
  {
   "cell_type": "code",
   "execution_count": 1,
   "id": "4015874c",
   "metadata": {},
   "outputs": [],
   "source": [
    "from sklearn import datasets\n",
    "digits = datasets.load_digits()"
   ]
  },
  {
   "cell_type": "markdown",
   "id": "300783db",
   "metadata": {},
   "source": [
    "### Full description of the dataset i.e DESCR :\n",
    "- After loading the dataset, we can read the information about the dataset by calling the DESCR attribute.\n",
    "\n",
    "\n",
    "- The textual description of the dataset, the authors who contributed to its creation, and the references will appear as shown in the output.\n"
   ]
  },
  {
   "cell_type": "code",
   "execution_count": 2,
   "id": "8bee5771",
   "metadata": {},
   "outputs": [
    {
     "name": "stdout",
     "output_type": "stream",
     "text": [
      ".. _digits_dataset:\n",
      "\n",
      "Optical recognition of handwritten digits dataset\n",
      "--------------------------------------------------\n",
      "\n",
      "**Data Set Characteristics:**\n",
      "\n",
      "    :Number of Instances: 1797\n",
      "    :Number of Attributes: 64\n",
      "    :Attribute Information: 8x8 image of integer pixels in the range 0..16.\n",
      "    :Missing Attribute Values: None\n",
      "    :Creator: E. Alpaydin (alpaydin '@' boun.edu.tr)\n",
      "    :Date: July; 1998\n",
      "\n",
      "This is a copy of the test set of the UCI ML hand-written digits datasets\n",
      "https://archive.ics.uci.edu/ml/datasets/Optical+Recognition+of+Handwritten+Digits\n",
      "\n",
      "The data set contains images of hand-written digits: 10 classes where\n",
      "each class refers to a digit.\n",
      "\n",
      "Preprocessing programs made available by NIST were used to extract\n",
      "normalized bitmaps of handwritten digits from a preprinted form. From a\n",
      "total of 43 people, 30 contributed to the training set and different 13\n",
      "to the test set. 32x32 bitmaps are divided into nonoverlapping blocks of\n",
      "4x4 and the number of on pixels are counted in each block. This generates\n",
      "an input matrix of 8x8 where each element is an integer in the range\n",
      "0..16. This reduces dimensionality and gives invariance to small\n",
      "distortions.\n",
      "\n",
      "For info on NIST preprocessing routines, see M. D. Garris, J. L. Blue, G.\n",
      "T. Candela, D. L. Dimmick, J. Geist, P. J. Grother, S. A. Janet, and C.\n",
      "L. Wilson, NIST Form-Based Handprint Recognition System, NISTIR 5469,\n",
      "1994.\n",
      "\n",
      ".. topic:: References\n",
      "\n",
      "  - C. Kaynak (1995) Methods of Combining Multiple Classifiers and Their\n",
      "    Applications to Handwritten Digit Recognition, MSc Thesis, Institute of\n",
      "    Graduate Studies in Science and Engineering, Bogazici University.\n",
      "  - E. Alpaydin, C. Kaynak (1998) Cascading Classifiers, Kybernetika.\n",
      "  - Ken Tang and Ponnuthurai N. Suganthan and Xi Yao and A. Kai Qin.\n",
      "    Linear dimensionalityreduction using relevance weighted LDA. School of\n",
      "    Electrical and Electronic Engineering Nanyang Technological University.\n",
      "    2005.\n",
      "  - Claudio Gentile. A New Approximate Maximal Margin Classification\n",
      "    Algorithm. NIPS. 2000.\n",
      "\n"
     ]
    }
   ],
   "source": [
    "print(digits.DESCR)"
   ]
  },
  {
   "cell_type": "markdown",
   "id": "264098d6",
   "metadata": {},
   "source": [
    "Each dataset in the scikit-learn library has a field containing all the information."
   ]
  },
  {
   "cell_type": "markdown",
   "id": "4027232b",
   "metadata": {},
   "source": [
    "## Targets :\n",
    "- The numerical values represented by images, i.e., the targets, are contained in the digit.targets array."
   ]
  },
  {
   "cell_type": "code",
   "execution_count": 3,
   "id": "e78c21f7",
   "metadata": {},
   "outputs": [
    {
     "data": {
      "text/plain": [
       "array([0, 1, 2, ..., 8, 9, 8])"
      ]
     },
     "execution_count": 3,
     "metadata": {},
     "output_type": "execute_result"
    }
   ],
   "source": [
    "digits.target"
   ]
  },
  {
   "cell_type": "markdown",
   "id": "dfa31eb1",
   "metadata": {},
   "source": [
    "### Shape of the dataset :\n",
    "- Dimensions of the dataset can be obtained using data.shape() function."
   ]
  },
  {
   "cell_type": "code",
   "execution_count": 4,
   "id": "dad596f7",
   "metadata": {},
   "outputs": [
    {
     "data": {
      "text/plain": [
       "(1797, 64)"
      ]
     },
     "execution_count": 4,
     "metadata": {},
     "output_type": "execute_result"
    }
   ],
   "source": [
    "digits.data.shape"
   ]
  },
  {
   "cell_type": "markdown",
   "id": "22892517",
   "metadata": {},
   "source": [
    "The output shows that the dataset has 1797 images of 8x8 size."
   ]
  },
  {
   "cell_type": "markdown",
   "id": "61e0bbfa",
   "metadata": {},
   "source": [
    "### Images of the handwritten digits are stored in the form of array :\n",
    "\n",
    "- The images of the handwritten digits are contained in a digits.images array. Each element of this array is an image that is represented by an 8x8 matrix of numerical values that correspond to a grayscale from white, with a value of 0, to black, with the value 15\n",
    "\n",
    "\n",
    "- The images of the handwritten digits are contained in a digits.images array asshown in the following array"
   ]
  },
  {
   "cell_type": "code",
   "execution_count": 5,
   "id": "75cf3cac",
   "metadata": {},
   "outputs": [
    {
     "data": {
      "text/plain": [
       "array([[ 0.,  0.,  5., 13.,  9.,  1.,  0.,  0.],\n",
       "       [ 0.,  0., 13., 15., 10., 15.,  5.,  0.],\n",
       "       [ 0.,  3., 15.,  2.,  0., 11.,  8.,  0.],\n",
       "       [ 0.,  4., 12.,  0.,  0.,  8.,  8.,  0.],\n",
       "       [ 0.,  5.,  8.,  0.,  0.,  9.,  8.,  0.],\n",
       "       [ 0.,  4., 11.,  0.,  1., 12.,  7.,  0.],\n",
       "       [ 0.,  2., 14.,  5., 10., 12.,  0.,  0.],\n",
       "       [ 0.,  0.,  6., 13., 10.,  0.,  0.,  0.]])"
      ]
     },
     "execution_count": 5,
     "metadata": {},
     "output_type": "execute_result"
    }
   ],
   "source": [
    "digits.images[0]"
   ]
  },
  {
   "cell_type": "markdown",
   "id": "5a6202bf",
   "metadata": {},
   "source": [
    "### Visualizing an array (Obtaining Gray Scale Image)\n",
    "we can visually check the contents of this result using the matplotlib library.\n",
    "- Import pyplot module which is under matplotlib as plt.\n",
    "\n",
    "\n",
    "- The imshow() function is used to display data as an image; i.e. on a 2D regular raster.\n",
    "\n",
    "\n",
    "- cmap = gray_r displays a grayscale image.\n",
    "\n",
    "\n",
    "- interpolation= ‘nearest’ displays an image without trying to interpolate between pixels if the display resolution is not the same as the image resolution.\n",
    "\n",
    "\n",
    "- The title() function is used to display the title on the graph."
   ]
  },
  {
   "cell_type": "code",
   "execution_count": 6,
   "id": "b2ccd7ef",
   "metadata": {},
   "outputs": [
    {
     "data": {
      "text/plain": [
       "Text(0.5, 1.0, 'Visualizing an array')"
      ]
     },
     "execution_count": 6,
     "metadata": {},
     "output_type": "execute_result"
    },
    {
     "data": {
      "image/png": "[encoded data removed]",
      "text/plain": [
       "<Figure size 432x288 with 1 Axes>"
      ]
     },
     "metadata": {
      "needs_background": "light"
     },
     "output_type": "display_data"
    }
   ],
   "source": [
    "import matplotlib.pyplot as plt\n",
    "plt.imshow(digits.images[0], cmap=plt.cm.gray_r,interpolation='nearest')\n",
    "plt.title('Visualizing an array')"
   ]
  },
  {
   "cell_type": "markdown",
   "id": "174dfa5e",
   "metadata": {},
   "source": [
    "- By running the above command, we will obtain the grayscale image as shown in above Digram"
   ]
  },
  {
   "cell_type": "markdown",
   "id": "5f303244",
   "metadata": {},
   "source": [
    "## Visualization of the 10 digits :\n",
    "Using the NumPy and matplotlib libraries, we can display each digit from 0 to 9 which are in the form of an array as images.\n",
    "\n",
    "\n",
    "- The figure() function in the pyplot module of the matplotlib library is used to create a new figure with a specified size of (15,4).\n",
    "\n",
    "\n",
    "- subplots_adjust(hspace=0.8) is used to adjust the space between the rows of the subplots.\n",
    "\n",
    "\n",
    "- Combine two lists using the zip() function for easier handling inside the plotting loop.\n",
    "\n",
    "\n",
    "- enumerate() method adds a counter to an iterable and returns it. The returned object is a enumerate object.\n",
    "\n",
    "\n",
    "- subplot() function is used to add a subplot to a current figure at the specified grid position."
   ]
  },
  {
   "cell_type": "code",
   "execution_count": 7,
   "id": "6e16dac4",
   "metadata": {},
   "outputs": [
    {
     "data": {
      "image/png": "[encoded data removed]",
      "text/plain": [
       "<Figure size 1080x288 with 10 Axes>"
      ]
     },
     "metadata": {
      "needs_background": "light"
     },
     "output_type": "display_data"
    }
   ],
   "source": [
    "import numpy as np\n",
    "plt.figure(figsize=(15,4))\n",
    "plt.subplots_adjust(hspace=0.8)\n",
    "images_and_labels = list(zip(digits.images, digits.target))\n",
    "\n",
    "for index, (image, label) in enumerate(images_and_labels[:10]):\n",
    "    plt.subplot(2, 5, index + 1)\n",
    "    plt.imshow(image, cmap=plt.cm.gray_r, interpolation='nearest')\n",
    "    plt.title('Training: %i' % label, fontsize = 12)"
   ]
  },
  {
   "cell_type": "markdown",
   "id": "82d9c22e",
   "metadata": {},
   "source": [
    "By running the above command, we will obtain the 10 digits of grayscale image as shown in above Digram"
   ]
  },
  {
   "cell_type": "markdown",
   "id": "ad66fefd",
   "metadata": {},
   "source": [
    "## Flatten the input images :\n",
    "The inputs are 8x8 grayscale images. we can produce a flat array of 64-pixel values so that each pixel corresponds to a column for the classifier.\n",
    "\n",
    "\n",
    "- len() function gives the number of images in the dataset.\n",
    "\n",
    "\n",
    "- reshape() function returns an array containing the same data with a new shape."
   ]
  },
  {
   "cell_type": "code",
   "execution_count": 8,
   "id": "8d8f14ea",
   "metadata": {},
   "outputs": [
    {
     "name": "stdout",
     "output_type": "stream",
     "text": [
      "1797\n"
     ]
    }
   ],
   "source": [
    "n = len(digits.images)\n",
    "print(n)\n",
    "data = digits.images.reshape((n, -1))"
   ]
  },
  {
   "cell_type": "markdown",
   "id": "5b7a7463",
   "metadata": {},
   "source": [
    "The above code is reported that the dataset is a training set consisting of 1,797 images. we can determine if that is true."
   ]
  },
  {
   "cell_type": "code",
   "execution_count": 9,
   "id": "a019e142",
   "metadata": {},
   "outputs": [
    {
     "data": {
      "text/plain": [
       "1797"
      ]
     },
     "execution_count": 9,
     "metadata": {},
     "output_type": "execute_result"
    }
   ],
   "source": [
    "digits.target.size"
   ]
  },
  {
   "cell_type": "markdown",
   "id": "f2c67e7e",
   "metadata": {},
   "source": [
    "### Support Vector Classifier :\n",
    "- An estimator that is useful in this case is sklearn.svm.SVC, which uses the technique of Support Vector Classification (SVC).\n",
    "\n",
    "\n",
    "- “Support Vector Machine” (SVM) is a supervised machine learning algorithm that is mostly used in classification problems.\n",
    "\n",
    "\n",
    "- Import the SVM module of the scikit-learn library and create an estimator of SVC type and then choose an initial setting, assigning the values C and gamma generic values."
   ]
  },
  {
   "cell_type": "code",
   "execution_count": 10,
   "id": "3679bd20",
   "metadata": {},
   "outputs": [],
   "source": [
    "#Import svm model\n",
    "from sklearn import svm\n",
    "\n",
    "#Create a svm Classifier\n",
    "svc = svm.SVC(gamma=0.001, C=100.)"
   ]
  },
  {
   "cell_type": "markdown",
   "id": "2610ea2e",
   "metadata": {},
   "source": [
    "## Split the Dataset :\n",
    "- once we define a predictive model, we must instruct it with a training and test set. The training set is a set of data in which you already know the belonging class and the test set is a secondary data set that is used to test a machine learning program after it has been trained on initial training.\n",
    "\n",
    "\n",
    "- Import train_test_split() function which is used for splitting data arrays into two subsets i.e., into train and test sets.\n",
    "\n",
    "\n",
    "### case 1: Here we have split the data by assigning 0.01 as test size."
   ]
  },
  {
   "cell_type": "code",
   "execution_count": 11,
   "id": "0379331d",
   "metadata": {},
   "outputs": [],
   "source": [
    "from sklearn.model_selection import train_test_split\n",
    "\n",
    "x_train, x_test, y_train, y_test = train_test_split(data,digits.target, test_size=0.01, random_state=0)"
   ]
  },
  {
   "cell_type": "markdown",
   "id": "c1065913",
   "metadata": {},
   "source": [
    "### Training and Prediction :\n",
    "\n",
    "we can train the svc estimator that we defined earlier using the fit() function."
   ]
  },
  {
   "cell_type": "code",
   "execution_count": 12,
   "id": "6b7481a8",
   "metadata": {},
   "outputs": [
    {
     "data": {
      "text/plain": [
       "SVC(C=100.0, gamma=0.001)"
      ]
     },
     "execution_count": 12,
     "metadata": {},
     "output_type": "execute_result"
    }
   ],
   "source": [
    "svc.fit(x_train, y_train)"
   ]
  },
  {
   "cell_type": "markdown",
   "id": "df906695",
   "metadata": {},
   "source": [
    "## Test the model :\n",
    "\n",
    "- we can test our estimator by making it interpret the digits of the test set using predict() function."
   ]
  },
  {
   "cell_type": "code",
   "execution_count": 13,
   "id": "652ae37e",
   "metadata": {},
   "outputs": [
    {
     "data": {
      "text/plain": [
       "array([2, 8, 2, 6, 6, 7, 1, 9, 8, 5, 2, 8, 6, 6, 6, 6, 1, 0])"
      ]
     },
     "execution_count": 13,
     "metadata": {},
     "output_type": "execute_result"
    }
   ],
   "source": [
    "y_pred = svc.predict(x_test)\n",
    "y_pred"
   ]
  },
  {
   "cell_type": "markdown",
   "id": "0bf1de2b",
   "metadata": {},
   "source": [
    "We obtain the results in the form of an array."
   ]
  },
  {
   "cell_type": "markdown",
   "id": "529eaea8",
   "metadata": {},
   "source": [
    "###  Test samples and their predicted digit values :\n",
    "\n",
    "Visualize the test images\n",
    "\n",
    "- We can plot the images of the predicted digits from the array using the following code.\n"
   ]
  },
  {
   "cell_type": "code",
   "execution_count": 14,
   "id": "5361d5f0",
   "metadata": {},
   "outputs": [
    {
     "data": {
      "image/png": "[encoded data removed]",
      "text/plain": [
       "<Figure size 1296x360 with 18 Axes>"
      ]
     },
     "metadata": {
      "needs_background": "light"
     },
     "output_type": "display_data"
    }
   ],
   "source": [
    "images_and_predictions = list(zip(x_test,y_pred))\n",
    "\n",
    "plt.figure(figsize=(18,5))\n",
    "for index, (image, prediction) in enumerate(images_and_predictions[:19]):\n",
    "    plt.subplot(2, 9, index + 1)\n",
    "    image = image.reshape(8, 8)\n",
    "    plt.imshow(image, cmap=plt.cm.gray_r, interpolation='nearest')\n",
    "    plt.title('prediction: %i' % prediction)\n",
    "    \n",
    "# save the figure\n",
    "plt.savefig('plot3.png', dpi=300,bbox_inches='tight')"
   ]
  },
  {
   "cell_type": "markdown",
   "id": "36c15cfd",
   "metadata": {},
   "source": [
    "It is able to recognize the handwritten digits and interprete all the digits of the validation set correctly."
   ]
  },
  {
   "cell_type": "markdown",
   "id": "5d11091a",
   "metadata": {},
   "source": [
    "## Accuracy of the model :\n",
    "- The accuracy score of the model can be obtained using the score() function."
   ]
  },
  {
   "cell_type": "code",
   "execution_count": 15,
   "id": "5b9a5d0c",
   "metadata": {},
   "outputs": [
    {
     "name": "stdout",
     "output_type": "stream",
     "text": [
      "Accuracy Score: 1.0\n"
     ]
    }
   ],
   "source": [
    "score = svc.score(x_test, y_test)\n",
    "print('Accuracy Score: {0}'.format(score))"
   ]
  },
  {
   "cell_type": "markdown",
   "id": "7bdb6613",
   "metadata": {},
   "source": [
    "###  Case 2 :Creating a Confusion Matrix and Classification Report for SVM\n",
    "\n",
    "- A confusion matrix is a table that is often used to describe the performance of a classification model (or “classifier”) on a set of test data for which the true values are known.\n",
    "\n",
    "\n",
    "- A Classification report is used to measure the quality of predictions from a classification algorithm.\n",
    "\n",
    "\n",
    "- The following code will display the confusion matrix and classification report using the confusion_matrix() and classification_report() functions."
   ]
  },
  {
   "cell_type": "code",
   "execution_count": 16,
   "id": "43606d8a",
   "metadata": {},
   "outputs": [
    {
     "name": "stdout",
     "output_type": "stream",
     "text": [
      "Classification report for SVM classifier:\n",
      "\n",
      "               precision    recall  f1-score   support\n",
      "\n",
      "           0       1.00      1.00      1.00         1\n",
      "           1       1.00      1.00      1.00         2\n",
      "           2       1.00      1.00      1.00         3\n",
      "           5       1.00      1.00      1.00         1\n",
      "           6       1.00      1.00      1.00         6\n",
      "           7       1.00      1.00      1.00         1\n",
      "           8       1.00      1.00      1.00         3\n",
      "           9       1.00      1.00      1.00         1\n",
      "\n",
      "    accuracy                           1.00        18\n",
      "   macro avg       1.00      1.00      1.00        18\n",
      "weighted avg       1.00      1.00      1.00        18\n",
      "\n"
     ]
    },
    {
     "data": {
      "image/png": "[encoded data removed]",
      "text/plain": [
       "<Figure size 720x720 with 2 Axes>"
      ]
     },
     "metadata": {
      "needs_background": "light"
     },
     "output_type": "display_data"
    }
   ],
   "source": [
    "#For Confusion Matrix\n",
    "from sklearn.metrics import confusion_matrix\n",
    "import pandas as pd\n",
    "import seaborn as sn\n",
    "\n",
    "data = confusion_matrix(y_test, y_pred)\n",
    "df_cm = pd.DataFrame(data, columns=np.unique(y_test), index = np.unique(y_test))\n",
    "df_cm.index.name = 'Actual'\n",
    "df_cm.columns.name = 'Predicted'\n",
    "\n",
    "plt.figure(figsize = (10, 10))\n",
    "sn.set(font_scale=1.4) #for lable size\n",
    "plt.title('Confusion_Matrix')\n",
    "sn.heatmap(df_cm, annot=True, annot_kws={\"size\": 12}) # Font size\n",
    "\n",
    "#For Classification Report\n",
    "\n",
    "\n",
    "from sklearn.metrics import classification_report\n",
    "cr=classification_report(y_test, y_pred)\n",
    "print(\"Classification report for SVM classifier:\\n\\n\",cr)"
   ]
  },
  {
   "cell_type": "markdown",
   "id": "2b0241a0",
   "metadata": {},
   "source": [
    "## Conclusion:-\n",
    "                        Given the large number of elements contained in the Digits dataset, we will certainly obtain a very effective model, i.e., one that’s capable of recognizing with good certainty.\n",
    "                   \n",
    "                   After performing the data analysis on the dataset with three different test cases, we can conclude that the given hypothesis is true i.e.,This dataset predicts the digit accurately 95% of the times"
   ]
  }
 ],
 "metadata": {
  "kernelspec": {
   "display_name": "Python 3",
   "language": "python",
   "name": "python3"
  },
  "language_info": {
   "codemirror_mode": {
    "name": "ipython",
    "version": 3
   },
   "file_extension": ".py",
   "mimetype": "text/x-python",
   "name": "python",
   "nbconvert_exporter": "python",
   "pygments_lexer": "ipython3",
   "version": "3.8.8"
  }
 },
 "nbformat": 4,
 "nbformat_minor": 5
}
